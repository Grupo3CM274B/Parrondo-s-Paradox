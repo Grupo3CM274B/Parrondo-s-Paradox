{
 "cells": [
  {
   "cell_type": "code",
   "execution_count": 1,
   "metadata": {},
   "outputs": [
    {
     "name": "stdout",
     "output_type": "stream",
     "text": [
      "El resultado es 1294\n"
     ]
    }
   ],
   "source": [
    "import random\n",
    "def JuegoA(a):\n",
    "    c= a #  c: capital\n",
    "    b = random.randint(0,1000)  # b:jugada \n",
    "    if a>=0:\n",
    "    \n",
    "        if b<= 505: # probabilidad de perdida 50,5%\n",
    "            c=c-1 #pierdo\n",
    "        else: # probabilidad de ganancia 49,5%\n",
    "            c=c+1 #gano\n",
    "     \n",
    "    return c\n",
    "\n",
    "def JuegoB(a):\n",
    "    c=a  # c :capital\n",
    "    b=random.randint(0,1000) #b: jugada\n",
    "    if a>= 0:\n",
    "        if a%3 == 0: # Si el capital es multiplo de 3\n",
    "            if b<= 905: # probabilidad de perdida 90,5%\n",
    "               c=c-1 # pierdo\n",
    "            else: # probabilidad de ganancia 9,5% \n",
    "               c=c+1 # gano\n",
    "        else:\n",
    "            if b<=745: #probabilidad de ganancia 74,5%\n",
    "               c=c+1 # gano\n",
    "            else: #probabilidad de perdida 35.5%\n",
    "               c=c-1 # pierdo \n",
    "    return c      \n",
    "\n",
    "def ParrondoParadox(a):\n",
    "    i=1\n",
    "    re = a # re : capital\n",
    "    n = 4 # Numero de juegos por secuencia = 4\n",
    "    condicion = True\n",
    "    while condicion:\n",
    "        re = JuegoB(re) # primer dia de la secuencia\n",
    "        re = JuegoB(re) # segundo dia de la secuencia\n",
    "        re = JuegoA(re) # tercer dia de la secuencia \n",
    "        re = JuegoA(re) # cuarto dia de la secuencia  \n",
    "        i = i+n\n",
    "        if i>22000: # Numero total de dias = 22000\n",
    "            condicion = False\n",
    "    return re # resultado final\n",
    "\n",
    "prom = 0\n",
    "for contador in range(2000000): \n",
    "        eval = 1000   # eval : capital inicial\n",
    "        eval = ParrondoParadox(eval)\n",
    "        prom = prom + eval\n",
    "prom = prom/2000000       # Promedio de capital para un numero considerable de experimentos\n",
    "print(\"El resultado es %d\"%prom)\n",
    "        "
   ]
  },
  {
   "cell_type": "code",
   "execution_count": null,
   "metadata": {},
   "outputs": [],
   "source": []
  }
 ],
 "metadata": {
  "kernelspec": {
   "display_name": "Python 3",
   "language": "python",
   "name": "python3"
  },
  "language_info": {
   "codemirror_mode": {
    "name": "ipython",
    "version": 3
   },
   "file_extension": ".py",
   "mimetype": "text/x-python",
   "name": "python",
   "nbconvert_exporter": "python",
   "pygments_lexer": "ipython3",
   "version": "3.7.0"
  }
 },
 "nbformat": 4,
 "nbformat_minor": 2
}
